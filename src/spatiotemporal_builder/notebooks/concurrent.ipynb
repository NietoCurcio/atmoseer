{
 "cells": [
  {
   "cell_type": "code",
   "execution_count": 1,
   "metadata": {},
   "outputs": [],
   "source": [
    "import concurrent.futures\n",
    "import time\n",
    "\n",
    "from tqdm import tqdm\n"
   ]
  },
  {
   "cell_type": "code",
   "execution_count": 2,
   "metadata": {},
   "outputs": [
    {
     "name": "stdout",
     "output_type": "stream",
     "text": [
      "Processing 1 on CPU-bound taskProcessing 2 on CPU-bound taskProcessing 3 on CPU-bound task\n",
      "\n",
      "\n",
      "Process result: 333332833333500000\n",
      "Process result: 2666664666667000000\n",
      "Process result: 8999995500000500000\n"
     ]
    }
   ],
   "source": [
    "def cpu_bound_task(x):\n",
    "    print(f\"Processing {x} on CPU-bound task\")\n",
    "    return sum(i * i for i in range(1000000 * x))\n",
    "\n",
    "\n",
    "def io_bound_task(x):\n",
    "    print(f\"Processing {x} on I/O-bound task\")\n",
    "    if x == 2:\n",
    "        time.sleep(5)\n",
    "    time.sleep(x)\n",
    "    return x\n",
    "\n",
    "\n",
    "def process_pool_example():\n",
    "    with concurrent.futures.ProcessPoolExecutor() as executor:\n",
    "        results = executor.map(cpu_bound_task, range(1, 4))\n",
    "        for result in results:\n",
    "            print(f\"Process result: {result}\")\n",
    "\n",
    "\n",
    "def thread_pool_example():\n",
    "    with concurrent.futures.ThreadPoolExecutor() as executor:\n",
    "        futures = [executor.submit(io_bound_task, i) for i in range(1, 4)]\n",
    "        for future in concurrent.futures.as_completed(futures):\n",
    "            print(f\"Thread result: {future.result()}\")\n",
    "\n",
    "\n",
    "process_pool_example()"
   ]
  },
  {
   "cell_type": "code",
   "execution_count": 3,
   "metadata": {},
   "outputs": [
    {
     "name": "stdout",
     "output_type": "stream",
     "text": [
      "Processing 1 on I/O-bound task\n",
      "Processing 2 on I/O-bound task\n",
      "Processing 3 on I/O-bound task\n",
      "Thread result: 1\n",
      "Thread result: 3\n",
      "Thread result: 2\n"
     ]
    }
   ],
   "source": [
    "thread_pool_example()"
   ]
  },
  {
   "cell_type": "code",
   "execution_count": 4,
   "metadata": {},
   "outputs": [
    {
     "name": "stdout",
     "output_type": "stream",
     "text": [
      "Processing 1 on I/O-bound task\n"
     ]
    },
    {
     "name": "stdout",
     "output_type": "stream",
     "text": [
      "Processing 2 on I/O-bound task\n",
      "Processing 3 on I/O-bound task\n",
      "Process result: 1\n",
      "Process result: 2\n",
      "Process result: 3\n"
     ]
    }
   ],
   "source": [
    "def process_pool_example2():\n",
    "    with concurrent.futures.ThreadPoolExecutor() as executor:\n",
    "        results = executor.map(io_bound_task, range(1, 4))\n",
    "        for result in results:\n",
    "            print(f\"Process result: {result}\")\n",
    "\n",
    "\n",
    "process_pool_example2()"
   ]
  },
  {
   "cell_type": "code",
   "execution_count": 5,
   "metadata": {},
   "outputs": [
    {
     "name": "stderr",
     "output_type": "stream",
     "text": [
      " 33%|███▎      | 1/3 [00:00<00:01,  1.00it/s]"
     ]
    },
    {
     "name": "stdout",
     "output_type": "stream",
     "text": [
      "Process result: 1\n"
     ]
    },
    {
     "name": "stderr",
     "output_type": "stream",
     "text": [
      "100%|██████████| 3/3 [00:12<00:00,  4.00s/it]"
     ]
    },
    {
     "name": "stdout",
     "output_type": "stream",
     "text": [
      "Process result: 2\n",
      "Process result: 3\n"
     ]
    },
    {
     "name": "stderr",
     "output_type": "stream",
     "text": [
      "\n"
     ]
    }
   ],
   "source": [
    "def io_bound_task2(x):\n",
    "    if x == 2:\n",
    "        time.sleep(10)\n",
    "    if x == 3:\n",
    "        time.sleep(9)\n",
    "    time.sleep(x)\n",
    "    return x\n",
    "\n",
    "\n",
    "def process_pool_example3():\n",
    "    with concurrent.futures.ThreadPoolExecutor() as executor:\n",
    "        results = tqdm(executor.map(io_bound_task2, range(1, 4)), total=3)\n",
    "        for result in results:\n",
    "            print(f\"Process result: {result}\")\n",
    "\n",
    "\n",
    "process_pool_example3()\n"
   ]
  },
  {
   "cell_type": "code",
   "execution_count": 6,
   "metadata": {},
   "outputs": [
    {
     "name": "stderr",
     "output_type": "stream",
     "text": [
      "Processing:  33%|███▎      | 1/3 [00:00<00:01,  1.00it/s]"
     ]
    },
    {
     "name": "stdout",
     "output_type": "stream",
     "text": [
      "Process result: 1\n"
     ]
    },
    {
     "name": "stderr",
     "output_type": "stream",
     "text": [
      "Processing:  67%|██████▋   | 2/3 [00:02<00:01,  1.00s/it]"
     ]
    },
    {
     "name": "stdout",
     "output_type": "stream",
     "text": [
      "Process result: 2\n"
     ]
    },
    {
     "name": "stderr",
     "output_type": "stream",
     "text": [
      "Processing: 100%|██████████| 3/3 [00:03<00:00,  1.00s/it]"
     ]
    },
    {
     "name": "stdout",
     "output_type": "stream",
     "text": [
      "Process result: 3\n"
     ]
    },
    {
     "name": "stderr",
     "output_type": "stream",
     "text": [
      "\n"
     ]
    }
   ],
   "source": [
    "def io_bound_task3(x):\n",
    "    time.sleep(x)\n",
    "    return x\n",
    "\n",
    "\n",
    "def process_pool_example_with_submit():\n",
    "    with concurrent.futures.ThreadPoolExecutor() as executor:\n",
    "        futures = [executor.submit(io_bound_task3, i) for i in range(1, 4)]\n",
    "        for future in tqdm(\n",
    "            concurrent.futures.as_completed(futures), total=len(futures), desc=\"Processing\"\n",
    "        ):\n",
    "            result = future.result()\n",
    "            print(f\"Process result: {result}\")\n",
    "\n",
    "\n",
    "process_pool_example_with_submit()\n"
   ]
  },
  {
   "cell_type": "code",
   "execution_count": 7,
   "metadata": {},
   "outputs": [
    {
     "name": "stderr",
     "output_type": "stream",
     "text": [
      "Processing:   0%|          | 0/3 [00:00<?, ?it/s]"
     ]
    },
    {
     "name": "stderr",
     "output_type": "stream",
     "text": [
      "Processing: 100%|██████████| 3/3 [00:03<00:00,  1.00s/it]\n"
     ]
    }
   ],
   "source": [
    "def process_pool_example_with_submit2():\n",
    "    with concurrent.futures.ProcessPoolExecutor() as executor:\n",
    "        futures = [executor.submit(io_bound_task3, i) for i in range(1, 4)]\n",
    "        with tqdm(total=len(futures), desc=\"Processing\") as pbar:\n",
    "            for _ in concurrent.futures.as_completed(futures):\n",
    "                pbar.update()\n",
    "\n",
    "\n",
    "process_pool_example_with_submit2()\n"
   ]
  }
 ],
 "metadata": {
  "kernelspec": {
   "display_name": "atmoseer",
   "language": "python",
   "name": "python3"
  },
  "language_info": {
   "codemirror_mode": {
    "name": "ipython",
    "version": 3
   },
   "file_extension": ".py",
   "mimetype": "text/x-python",
   "name": "python",
   "nbconvert_exporter": "python",
   "pygments_lexer": "ipython3",
   "version": "3.9.19"
  }
 },
 "nbformat": 4,
 "nbformat_minor": 2
}
