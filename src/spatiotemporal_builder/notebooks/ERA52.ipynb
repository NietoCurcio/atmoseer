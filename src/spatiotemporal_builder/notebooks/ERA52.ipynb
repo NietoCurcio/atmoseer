{
 "cells": [
  {
   "cell_type": "code",
   "execution_count": 1,
   "metadata": {},
   "outputs": [],
   "source": [
    "import xarray as xr"
   ]
  },
  {
   "cell_type": "code",
   "execution_count": 2,
   "metadata": {},
   "outputs": [],
   "source": [
    "filename1 = './North_-22_West_-44_South_-23_East_-42.nc'\n",
    "filename2 = './North_-22_West_-44_South_-22.6_East_-42.5.nc'\n",
    "filename3 = './North_-22.9_West_-44_South_-23.5_East_-42.nc'\n",
    "\n",
    "green_color_terminal = '\\033[92m'\n",
    "red_color_terminal = '\\033[91m'\n",
    "reset_color_terminal = '\\033[0m'"
   ]
  },
  {
   "cell_type": "code",
   "execution_count": 3,
   "metadata": {},
   "outputs": [],
   "source": [
    "def open_dataset(filename):\n",
    "    ds = xr.open_dataset(filename)\n",
    "    return ds"
   ]
  },
  {
   "cell_type": "code",
   "execution_count": 4,
   "metadata": {},
   "outputs": [],
   "source": [
    "def _check_expver(ds):\n",
    "    if \"expver\" in list(ds.coords.keys()):\n",
    "        print(f\"{red_color_terminal}ERROR - expver is in the list of coordinates{reset_color_terminal}\")\n",
    "    else:\n",
    "        print(f\"{green_color_terminal}OK - expver is not in the list of coordinates{reset_color_terminal}\")\n",
    "\n",
    "def _print_missing_values(ds):\n",
    "    for var in list(ds.data_vars.keys()):\n",
    "        missing_values = ds[var].isnull().sum().values\n",
    "        print(f\"Variable {var} has {missing_values} missing values\")\n",
    "\n",
    "def _print_specific_missing_values(ds):\n",
    "    if 'latitude' in ds.data_vars:\n",
    "        lat_missing_values = ds['latitude'].isnull().sum().values\n",
    "        print(f\"Variable latitude has {lat_missing_values} missing values\")\n",
    "    if 'longitude' in ds.data_vars:\n",
    "        lon_missing_values = ds['longitude'].isnull().sum().values\n",
    "        print(f\"Variable longitude has {lon_missing_values} missing values\")\n",
    "    if 'time' in ds.data_vars:\n",
    "        time_missing_values = ds['time'].isnull().sum().values\n",
    "        print(f\"Variable time has {time_missing_values} missing values\")\n",
    "    if 'tp' in ds.data_vars:\n",
    "        tp_missing_values = ds['tp'].isnull().sum().values\n",
    "        print(f\"Variable tp has {tp_missing_values} missing values\")\n",
    "\n",
    "def process_file(filename):\n",
    "    ds = open_dataset(filename)\n",
    "    _check_expver(ds)\n",
    "    _print_missing_values(ds)\n",
    "    _print_specific_missing_values(ds)"
   ]
  },
  {
   "cell_type": "code",
   "execution_count": 5,
   "metadata": {},
   "outputs": [
    {
     "name": "stdout",
     "output_type": "stream",
     "text": [
      "\u001b[92mOK - expver is not in the list of coordinates\u001b[0m\n",
      "Variable tp has 20088 missing values\n",
      "Variable tp has 20088 missing values\n",
      "\n",
      "\n",
      "\u001b[92mOK - expver is not in the list of coordinates\u001b[0m\n",
      "Variable tp has 0 missing values\n",
      "Variable tp has 0 missing values\n",
      "\n",
      "\n",
      "\u001b[92mOK - expver is not in the list of coordinates\u001b[0m\n",
      "Variable tp has 95976 missing values\n",
      "Variable tp has 95976 missing values\n"
     ]
    }
   ],
   "source": [
    "process_file(filename1)\n",
    "print(\"\\n\")\n",
    "process_file(filename2)\n",
    "print(\"\\n\")\n",
    "process_file(filename3)\n"
   ]
  }
 ],
 "metadata": {
  "kernelspec": {
   "display_name": "atmoseer",
   "language": "python",
   "name": "python3"
  },
  "language_info": {
   "codemirror_mode": {
    "name": "ipython",
    "version": 3
   },
   "file_extension": ".py",
   "mimetype": "text/x-python",
   "name": "python",
   "nbconvert_exporter": "python",
   "pygments_lexer": "ipython3",
   "version": "3.9.19"
  }
 },
 "nbformat": 4,
 "nbformat_minor": 2
}
