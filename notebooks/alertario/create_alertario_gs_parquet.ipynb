{
 "cells": [
  {
   "cell_type": "code",
   "execution_count": 1,
   "metadata": {},
   "outputs": [],
   "source": [
    "import pandas as pd\n",
    "import os\n",
    "from collections.abc import KeysView"
   ]
  },
  {
   "cell_type": "code",
   "execution_count": 2,
   "metadata": {},
   "outputs": [
    {
     "name": "stdout",
     "output_type": "stream",
     "text": [
      "  name  speed\n",
      "0    a      1\n",
      "1    a      2\n",
      "2    b      3\n",
      "3    b      4\n"
     ]
    }
   ],
   "source": [
    "df = pd.DataFrame({\n",
    "    'name': ['a', 'a', 'b', 'b', 'c', 'c'],\n",
    "    'speed': [1, 2, 3, 4, 5, 6],\n",
    "})\n",
    "print(df[(df['name'] == 'a') | (df['name'] == 'b')])\n",
    "# or print(df[df['name'].isin(['a', 'b'])])"
   ]
  },
  {
   "cell_type": "code",
   "execution_count": 3,
   "metadata": {},
   "outputs": [
    {
     "name": "stdout",
     "output_type": "stream",
     "text": [
      "(8268690, 11)\n",
      "Index(['station', 'datetime', 'precipitation', 'hour_sin', 'hour_cos',\n",
      "       'month_sin', 'month_cos', 'latitude', 'longitude', 'year', 'month'],\n",
      "      dtype='object')\n"
     ]
    }
   ],
   "source": [
    "def check_if_data_folder_exists(folder: str) -> None:\n",
    "  if not os.path.exists(folder):\n",
    "    raise FileNotFoundError(f\"The folder {folder} does not exist.\")\n",
    "\n",
    "check_if_data_folder_exists('alertario_rain_gauge/alertario')\n",
    "df_alertario_gauge = pd.read_parquet('alertario_rain_gauge/alertario')\n",
    "print(df_alertario_gauge.shape)\n",
    "print(df_alertario_gauge.columns)"
   ]
  },
  {
   "cell_type": "code",
   "execution_count": 4,
   "metadata": {},
   "outputs": [
    {
     "data": {
      "text/plain": [
       "{'guaratiba', 'sao_cristovao'}"
      ]
     },
     "execution_count": 4,
     "metadata": {},
     "output_type": "execute_result"
    }
   ],
   "source": [
    "# Please see atmoseer/src/globals:ALERTARIO_GAUGE_STATION_IDS\n",
    "ALERTARIO_GAUGE_STATION_IDS = [\n",
    "    'anchieta', 'av_brasil_mendanha', 'bangu', \n",
    "    'barrinha', 'campo_grande', 'cidade_de_deus', \n",
    "    'copacabana', 'grajau_jacarepagua', 'grajau', \n",
    "    'grande_meier', 'grota_funda', 'ilha_do_governador', \n",
    "    'laranjeiras', 'madureira', 'penha', \n",
    "    'piedade', 'recreio', 'rocinha',\n",
    "    'santa_teresa', 'saude', 'sepetiba', \n",
    "    'tanque', 'tijuca_muda', 'tijuca', \n",
    "    'urca', 'alto_da_boa_vista', 'iraja',\n",
    "    'jardim_botanico', 'riocentro', 'santa_cruz',\n",
    "    'vidigal'\n",
    "]\n",
    "\n",
    "set(df_alertario_gauge.station.unique()) - set(ALERTARIO_GAUGE_STATION_IDS)"
   ]
  },
  {
   "cell_type": "code",
   "execution_count": 5,
   "metadata": {},
   "outputs": [
    {
     "name": "stdout",
     "output_type": "stream",
     "text": [
      "set()\n"
     ]
    },
    {
     "data": {
      "text/html": [
       "<div>\n",
       "<style scoped>\n",
       "    .dataframe tbody tr th:only-of-type {\n",
       "        vertical-align: middle;\n",
       "    }\n",
       "\n",
       "    .dataframe tbody tr th {\n",
       "        vertical-align: top;\n",
       "    }\n",
       "\n",
       "    .dataframe thead th {\n",
       "        text-align: right;\n",
       "    }\n",
       "</style>\n",
       "<table border=\"1\" class=\"dataframe\">\n",
       "  <thead>\n",
       "    <tr style=\"text-align: right;\">\n",
       "      <th></th>\n",
       "      <th>station</th>\n",
       "      <th>datetime</th>\n",
       "      <th>precipitation</th>\n",
       "      <th>hour_sin</th>\n",
       "      <th>hour_cos</th>\n",
       "      <th>month_sin</th>\n",
       "      <th>month_cos</th>\n",
       "      <th>latitude</th>\n",
       "      <th>longitude</th>\n",
       "      <th>year</th>\n",
       "      <th>month</th>\n",
       "    </tr>\n",
       "  </thead>\n",
       "  <tbody>\n",
       "    <tr>\n",
       "      <th>0</th>\n",
       "      <td>vidigal</td>\n",
       "      <td>2016-01-01 02:00:00+00:00</td>\n",
       "      <td>0.0</td>\n",
       "      <td>0.500000</td>\n",
       "      <td>0.866025</td>\n",
       "      <td>0.5</td>\n",
       "      <td>0.866025</td>\n",
       "      <td>-22.9925</td>\n",
       "      <td>-43.23306</td>\n",
       "      <td>2016</td>\n",
       "      <td>1</td>\n",
       "    </tr>\n",
       "    <tr>\n",
       "      <th>1</th>\n",
       "      <td>vidigal</td>\n",
       "      <td>2016-01-01 02:15:00+00:00</td>\n",
       "      <td>0.0</td>\n",
       "      <td>0.555570</td>\n",
       "      <td>0.831470</td>\n",
       "      <td>0.5</td>\n",
       "      <td>0.866025</td>\n",
       "      <td>-22.9925</td>\n",
       "      <td>-43.23306</td>\n",
       "      <td>2016</td>\n",
       "      <td>1</td>\n",
       "    </tr>\n",
       "    <tr>\n",
       "      <th>2</th>\n",
       "      <td>vidigal</td>\n",
       "      <td>2016-01-01 02:30:00+00:00</td>\n",
       "      <td>0.0</td>\n",
       "      <td>0.608761</td>\n",
       "      <td>0.793353</td>\n",
       "      <td>0.5</td>\n",
       "      <td>0.866025</td>\n",
       "      <td>-22.9925</td>\n",
       "      <td>-43.23306</td>\n",
       "      <td>2016</td>\n",
       "      <td>1</td>\n",
       "    </tr>\n",
       "    <tr>\n",
       "      <th>3</th>\n",
       "      <td>vidigal</td>\n",
       "      <td>2016-01-01 02:45:00+00:00</td>\n",
       "      <td>0.0</td>\n",
       "      <td>0.659346</td>\n",
       "      <td>0.751840</td>\n",
       "      <td>0.5</td>\n",
       "      <td>0.866025</td>\n",
       "      <td>-22.9925</td>\n",
       "      <td>-43.23306</td>\n",
       "      <td>2016</td>\n",
       "      <td>1</td>\n",
       "    </tr>\n",
       "    <tr>\n",
       "      <th>4</th>\n",
       "      <td>vidigal</td>\n",
       "      <td>2016-01-01 03:00:00+00:00</td>\n",
       "      <td>0.0</td>\n",
       "      <td>0.707107</td>\n",
       "      <td>0.707107</td>\n",
       "      <td>0.5</td>\n",
       "      <td>0.866025</td>\n",
       "      <td>-22.9925</td>\n",
       "      <td>-43.23306</td>\n",
       "      <td>2016</td>\n",
       "      <td>1</td>\n",
       "    </tr>\n",
       "  </tbody>\n",
       "</table>\n",
       "</div>"
      ],
      "text/plain": [
       "   station                  datetime  precipitation  hour_sin  hour_cos  \\\n",
       "0  vidigal 2016-01-01 02:00:00+00:00            0.0  0.500000  0.866025   \n",
       "1  vidigal 2016-01-01 02:15:00+00:00            0.0  0.555570  0.831470   \n",
       "2  vidigal 2016-01-01 02:30:00+00:00            0.0  0.608761  0.793353   \n",
       "3  vidigal 2016-01-01 02:45:00+00:00            0.0  0.659346  0.751840   \n",
       "4  vidigal 2016-01-01 03:00:00+00:00            0.0  0.707107  0.707107   \n",
       "\n",
       "   month_sin  month_cos  latitude  longitude  year month  \n",
       "0        0.5   0.866025  -22.9925  -43.23306  2016     1  \n",
       "1        0.5   0.866025  -22.9925  -43.23306  2016     1  \n",
       "2        0.5   0.866025  -22.9925  -43.23306  2016     1  \n",
       "3        0.5   0.866025  -22.9925  -43.23306  2016     1  \n",
       "4        0.5   0.866025  -22.9925  -43.23306  2016     1  "
      ]
     },
     "execution_count": 5,
     "metadata": {},
     "output_type": "execute_result"
    }
   ],
   "source": [
    "df_alertario_gauge = df_alertario_gauge[df_alertario_gauge.station.isin(ALERTARIO_GAUGE_STATION_IDS)]\n",
    "print(set(df_alertario_gauge.station.unique()) - set(ALERTARIO_GAUGE_STATION_IDS))\n",
    "df_alertario_gauge.head()"
   ]
  },
  {
   "cell_type": "code",
   "execution_count": 6,
   "metadata": {},
   "outputs": [],
   "source": [
    "class DataFrameHelper:\n",
    "    def get_dataframe_with_selected_columns(self, df: pd.DataFrame, column_names: KeysView) -> pd.DataFrame:\n",
    "        selected_columns = []\n",
    "        for column_name in column_names:\n",
    "            if column_name not in df.columns: raise ValueError(f\"The column {column_name} does not exist in the df\")\n",
    "            selected_columns.append(column_name)\n",
    "        return df[selected_columns].copy()\n",
    "\n",
    "    def rename_dataframe_column_names(self, df: pd.DataFrame, column_name_mapping: dict[str, str]) -> pd.DataFrame:\n",
    "        new_columns = []\n",
    "        for old_column, new_column in column_name_mapping.items():\n",
    "            if old_column not in df.columns: raise ValueError(f\"The column {old_column} does not exist in the df\")\n",
    "            new_columns.append(new_column)\n",
    "        df.columns = new_columns\n",
    "        return df\n",
    "\n",
    "    def get_column_name_mapping(self) -> dict[str, str]:\n",
    "        return {\n",
    "            'datetime': 'datetime',\n",
    "            'station': 'station',\n",
    "            'precipitation': 'precipitation_sum',\n",
    "            'latitude': 'latitude',\n",
    "            'longitude': 'longitude'\n",
    "        }\n",
    "    \n",
    "    def filter_dataframe_by_station(self, df: pd.DataFrame, station: str ) -> pd.DataFrame:\n",
    "        return df[df['station'] == station]\n",
    "    \n",
    "    def save_dataframe_as_parquet(self, df: pd.DataFrame, station_id: str) -> None:\n",
    "        df.to_parquet(f\"{station_id}.parquet\")"
   ]
  },
  {
   "cell_type": "code",
   "execution_count": 7,
   "metadata": {},
   "outputs": [
    {
     "name": "stdout",
     "output_type": "stream",
     "text": [
      "31\n"
     ]
    }
   ],
   "source": [
    "dataframe_helper = DataFrameHelper()\n",
    "\n",
    "column_name_mapping = {\n",
    "    'station': 'estacao_desc',\n",
    "    'latitude': 'latitude',\n",
    "    'longitude': 'longitude'\n",
    "}\n",
    "\n",
    "alertario_stations = dataframe_helper.get_dataframe_with_selected_columns(\n",
    "    df=df_alertario_gauge,\n",
    "    column_names=column_name_mapping.keys()\n",
    ")\n",
    "alertario_stations = dataframe_helper.rename_dataframe_column_names(\n",
    "    df=alertario_stations,\n",
    "    column_name_mapping=column_name_mapping\n",
    ")\n",
    "alertario_stations.drop_duplicates(inplace=True)\n",
    "print(len(alertario_stations))\n",
    "alertario_stations.to_parquet('alertario_stations.parquet')"
   ]
  },
  {
   "cell_type": "code",
   "execution_count": 8,
   "metadata": {},
   "outputs": [
    {
     "name": "stdout",
     "output_type": "stream",
     "text": [
      "[0.19 0.48 0.37 0.3  0.08 0.08 0.03 0.43 0.3  0.35]\n",
      "2000-01-01 00:00:00    0.19\n",
      "2000-01-01 00:01:00    0.48\n",
      "2000-01-01 00:02:00    0.37\n",
      "2000-01-01 00:03:00    0.30\n",
      "2000-01-01 00:04:00    0.08\n",
      "2000-01-01 00:05:00    0.08\n",
      "2000-01-01 00:06:00    0.03\n",
      "2000-01-01 00:07:00    0.43\n",
      "2000-01-01 00:08:00    0.30\n",
      "2000-01-01 00:09:00    0.35\n",
      "Freq: min, dtype: float64\n"
     ]
    },
    {
     "data": {
      "text/plain": [
       "2000-01-01 00:00:00    0.67\n",
       "2000-01-01 00:02:00    0.67\n",
       "2000-01-01 00:04:00    0.16\n",
       "2000-01-01 00:06:00    0.46\n",
       "2000-01-01 00:08:00    0.65\n",
       "Freq: 2min, dtype: float64"
      ]
     },
     "execution_count": 8,
     "metadata": {},
     "output_type": "execute_result"
    }
   ],
   "source": [
    "import numpy as np\n",
    "np.random.seed(42)\n",
    "random_numbers = np.random.rand(10) * 0.5\n",
    "random_numbers = np.round(random_numbers, 2)\n",
    "print(random_numbers)\n",
    "index = pd.date_range('1/1/2000', periods=10, freq='min')\n",
    "series = pd.Series(random_numbers, index=index)\n",
    "print(series)\n",
    "series.resample('2min').sum()"
   ]
  },
  {
   "cell_type": "code",
   "execution_count": 9,
   "metadata": {},
   "outputs": [
    {
     "data": {
      "text/html": [
       "<div>\n",
       "<style scoped>\n",
       "    .dataframe tbody tr th:only-of-type {\n",
       "        vertical-align: middle;\n",
       "    }\n",
       "\n",
       "    .dataframe tbody tr th {\n",
       "        vertical-align: top;\n",
       "    }\n",
       "\n",
       "    .dataframe thead th {\n",
       "        text-align: right;\n",
       "    }\n",
       "</style>\n",
       "<table border=\"1\" class=\"dataframe\">\n",
       "  <thead>\n",
       "    <tr style=\"text-align: right;\">\n",
       "      <th></th>\n",
       "      <th>precipitation</th>\n",
       "      <th>somename</th>\n",
       "      <th>latitude</th>\n",
       "    </tr>\n",
       "    <tr>\n",
       "      <th>datetime</th>\n",
       "      <th></th>\n",
       "      <th></th>\n",
       "      <th></th>\n",
       "    </tr>\n",
       "  </thead>\n",
       "  <tbody>\n",
       "    <tr>\n",
       "      <th>2016-01-01 02:00:00</th>\n",
       "      <td>5.4</td>\n",
       "      <td>ana</td>\n",
       "      <td>0.98</td>\n",
       "    </tr>\n",
       "    <tr>\n",
       "      <th>2016-01-01 03:00:00</th>\n",
       "      <td>10.5</td>\n",
       "      <td>ana</td>\n",
       "      <td>0.98</td>\n",
       "    </tr>\n",
       "  </tbody>\n",
       "</table>\n",
       "</div>"
      ],
      "text/plain": [
       "                     precipitation somename  latitude\n",
       "datetime                                             \n",
       "2016-01-01 02:00:00            5.4      ana      0.98\n",
       "2016-01-01 03:00:00           10.5      ana      0.98"
      ]
     },
     "execution_count": 9,
     "metadata": {},
     "output_type": "execute_result"
    }
   ],
   "source": [
    "import pandas as pd\n",
    "data = {\n",
    "    'datetime': ['2016-01-01 02:00:00', '2016-01-01 02:15:00', '2016-01-01 02:30:00', '2016-01-01 02:45:00', '2016-01-01 03:00:00'],\n",
    "    'precipitation': [0.4, 1.0, 5.0, 1.2, 10.5],\n",
    "    \"somename\": ['ana', 'julia', 'ana', 'julia', 'ana'],\n",
    "    \"latitude\": [0.98, 0.51, 0.98, 0.32, 0.98],\n",
    "}\n",
    "df = pd.DataFrame(data)\n",
    "df['datetime'] = pd.to_datetime(df['datetime'])\n",
    "df.set_index('datetime', inplace=True)\n",
    "df_ana = df[df['somename'] == 'ana'].copy() \n",
    "precipitation_series = df_ana['precipitation']\n",
    "hourly_precipitation = precipitation_series.resample('h').sum()\n",
    "df_ana.loc[:, 'precipitation'] = hourly_precipitation\n",
    "df_ana.dropna(subset=['precipitation'], inplace=True)\n",
    "df_ana"
   ]
  },
  {
   "cell_type": "code",
   "execution_count": 10,
   "metadata": {},
   "outputs": [],
   "source": [
    "column_name_mapping = dataframe_helper.get_column_name_mapping()\n",
    "\n",
    "for station_id in ALERTARIO_GAUGE_STATION_IDS:\n",
    "    df_station = dataframe_helper.filter_dataframe_by_station(df=df_alertario_gauge, station=station_id)\n",
    "\n",
    "    df_station = dataframe_helper.get_dataframe_with_selected_columns(\n",
    "        df=df_station,\n",
    "        column_names=column_name_mapping.keys()\n",
    "    )\n",
    "    df_station = dataframe_helper.rename_dataframe_column_names(\n",
    "        df=df_station,\n",
    "        column_name_mapping=column_name_mapping\n",
    "    )\n",
    "\n",
    "    df_station['datetime'] = pd.to_datetime(df_alertario_gauge['datetime'])\n",
    "    df_station.set_index('datetime', inplace=True)\n",
    "    precipitation_series = df_station['precipitation_sum']\n",
    "    hourly_precipitation = precipitation_series.resample('h').sum()\n",
    "    df_station.loc[:, 'precipitation_sum'] = hourly_precipitation\n",
    "    df_station.dropna(subset=['precipitation_sum'], inplace=True)\n",
    "    df_station.reset_index(inplace=True)\n",
    "\n",
    "    dataframe_helper.save_dataframe_as_parquet(df_station, station_id)"
   ]
  },
  {
   "cell_type": "code",
   "execution_count": 11,
   "metadata": {},
   "outputs": [
    {
     "data": {
      "text/plain": [
       "False"
      ]
     },
     "execution_count": 11,
     "metadata": {},
     "output_type": "execute_result"
    }
   ],
   "source": [
    "df_station.isnull().values.any().any()"
   ]
  },
  {
   "cell_type": "code",
   "execution_count": 12,
   "metadata": {},
   "outputs": [
    {
     "data": {
      "text/plain": [
       "0.0"
      ]
     },
     "execution_count": 12,
     "metadata": {},
     "output_type": "execute_result"
    }
   ],
   "source": [
    "(df_station.isnull().mean() * 100).mean()"
   ]
  },
  {
   "cell_type": "code",
   "execution_count": 13,
   "metadata": {},
   "outputs": [
    {
     "data": {
      "text/plain": [
       "0"
      ]
     },
     "execution_count": 13,
     "metadata": {},
     "output_type": "execute_result"
    }
   ],
   "source": [
    "df_station.isnull().sum().sum()"
   ]
  }
 ],
 "metadata": {
  "kernelspec": {
   "display_name": "base",
   "language": "python",
   "name": "python3"
  },
  "language_info": {
   "codemirror_mode": {
    "name": "ipython",
    "version": 3
   },
   "file_extension": ".py",
   "mimetype": "text/x-python",
   "name": "python",
   "nbconvert_exporter": "python",
   "pygments_lexer": "ipython3",
   "version": "3.9.19"
  }
 },
 "nbformat": 4,
 "nbformat_minor": 2
}
