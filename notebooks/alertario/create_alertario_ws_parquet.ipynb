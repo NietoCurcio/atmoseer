{
 "cells": [
  {
   "cell_type": "code",
   "execution_count": 1,
   "metadata": {
    "execution": {
     "iopub.execute_input": "2024-03-31T23:23:39.676516Z",
     "iopub.status.busy": "2024-03-31T23:23:39.676013Z",
     "iopub.status.idle": "2024-03-31T23:23:39.885349Z",
     "shell.execute_reply": "2024-03-31T23:23:39.884662Z"
    }
   },
   "outputs": [],
   "source": [
    "import pandas as pd\n",
    "import os\n",
    "from collections.abc import KeysView"
   ]
  },
  {
   "cell_type": "code",
   "execution_count": 2,
   "metadata": {
    "execution": {
     "iopub.execute_input": "2024-03-31T23:23:39.887255Z",
     "iopub.status.busy": "2024-03-31T23:23:39.887065Z",
     "iopub.status.idle": "2024-03-31T23:23:39.889726Z",
     "shell.execute_reply": "2024-03-31T23:23:39.889113Z"
    }
   },
   "outputs": [],
   "source": [
    "# Please see atmoseer/src/globals.py\n",
    "ALERTARIO_WEATHER_STATION_IDS = ['guaratiba', 'sao_cristovao']"
   ]
  },
  {
   "cell_type": "code",
   "execution_count": 3,
   "metadata": {
    "execution": {
     "iopub.execute_input": "2024-03-31T23:23:39.891994Z",
     "iopub.status.busy": "2024-03-31T23:23:39.891595Z",
     "iopub.status.idle": "2024-03-31T23:23:39.894837Z",
     "shell.execute_reply": "2024-03-31T23:23:39.894372Z"
    }
   },
   "outputs": [],
   "source": [
    "def check_if_data_folder_exists(folder: str) -> None:\n",
    "  if not os.path.exists(folder):\n",
    "    raise FileNotFoundError(f\"The folder {os.path.join(os.getcwd(), folder)} does not exist.\")"
   ]
  },
  {
   "cell_type": "code",
   "execution_count": 4,
   "metadata": {
    "execution": {
     "iopub.execute_input": "2024-03-31T23:23:39.896624Z",
     "iopub.status.busy": "2024-03-31T23:23:39.896385Z",
     "iopub.status.idle": "2024-03-31T23:23:39.901834Z",
     "shell.execute_reply": "2024-03-31T23:23:39.901363Z"
    }
   },
   "outputs": [],
   "source": [
    "class DataFrameHelper:\n",
    "    def get_dataframe_with_selected_columns(self, df: pd.DataFrame, column_names: KeysView) -> pd.DataFrame:\n",
    "        selected_columns = []\n",
    "        for column_name in column_names:\n",
    "            if column_name not in df.columns: raise ValueError(f\"The column {column_name} does not exist in df\")\n",
    "            selected_columns.append(column_name)\n",
    "        return df[selected_columns]\n",
    "\n",
    "    def rename_dataframe_column_names(self, df: pd.DataFrame, column_name_mapping: dict[str, str]) -> pd.DataFrame:\n",
    "        new_column_names = []\n",
    "        for old_column_name, new_column_name in column_name_mapping.items():\n",
    "            if old_column_name not in df.columns: raise ValueError(f\"The column {old_column_name} does not exist in df\")\n",
    "            new_column_names.append(new_column_name)\n",
    "        df.columns = new_column_names\n",
    "        return df\n",
    "\n",
    "    def get_column_name_mapping(self, df_alertario: pd.DataFrame) -> dict[str, str]:\n",
    "        column_name_mapping = {\n",
    "            'station': 'station',\n",
    "\n",
    "            'datetime': 'datetime',\n",
    "            'temperature': 'temperature_mean',\n",
    "            'humidity': 'humidity_mean',\n",
    "            'pressure': 'pressure_mean',\n",
    "            'wind_speed': 'wind_speed_mean',\n",
    "            'wind_dir': 'wind_dir_mean',\n",
    "            'precipitation': 'precipitation_sum',\n",
    "\n",
    "            'wind_u': 'wind_u',\n",
    "            'wind_v': 'wind_v',\n",
    "            'hour_sin': 'hour_sin',\n",
    "            'hour_cos': 'hour_cos',\n",
    "            'month_sin': 'month_sin',\n",
    "            'month_cos': 'month_cos',\n",
    "            'latitude': 'latitude',\n",
    "            'longitude': 'longitude',\n",
    "            'year': 'year',\n",
    "            'month': 'month'\n",
    "        }\n",
    "\n",
    "        if set(column_name_mapping.keys()) != set(df_alertario.columns):\n",
    "            raise ValueError(\n",
    "               \"The column names in the mapping do not match the column names in the DataFrame.\"\n",
    "            )\n",
    "        return column_name_mapping\n",
    "    \n",
    "    def filter_dataframe_by_station(self, df: pd.DataFrame, station: str) -> pd.DataFrame:\n",
    "        return df[df['station'] == station]\n",
    "    \n",
    "    def save_dataframe_as_parquet(self, df: pd.DataFrame, station_id: str):\n",
    "        df.to_parquet(f\"{station_id}.parquet\")"
   ]
  },
  {
   "cell_type": "code",
   "execution_count": 5,
   "metadata": {
    "execution": {
     "iopub.execute_input": "2024-03-31T23:23:39.903466Z",
     "iopub.status.busy": "2024-03-31T23:23:39.903237Z",
     "iopub.status.idle": "2024-03-31T23:23:41.139863Z",
     "shell.execute_reply": "2024-03-31T23:23:41.139155Z"
    }
   },
   "outputs": [
    {
     "name": "stdout",
     "output_type": "stream",
     "text": [
      "(1913637, 18)\n",
      "Index(['station', 'datetime', 'precipitation', 'wind_dir', 'wind_speed',\n",
      "       'temperature', 'pressure', 'humidity', 'wind_u', 'wind_v', 'hour_sin',\n",
      "       'hour_cos', 'month_sin', 'month_cos', 'latitude', 'longitude', 'year',\n",
      "       'month'],\n",
      "      dtype='object')\n",
      "['iraja' 'jardim_botanico' 'riocentro' 'guaratiba' 'santa_cruz'\n",
      " 'alto_da_boa_vista' 'sao_cristovao' 'vidigal']\n",
      "  station                  datetime  precipitation  wind_dir  wind_speed  \\\n",
      "0   iraja 2016-01-01 02:00:00+00:00            0.0       NaN         NaN   \n",
      "1   iraja 2016-01-01 02:15:00+00:00            0.0       NaN         NaN   \n",
      "2   iraja 2016-01-01 02:30:00+00:00            0.0       NaN         NaN   \n",
      "3   iraja 2016-01-01 02:45:00+00:00            0.0       NaN         NaN   \n",
      "4   iraja 2016-01-01 03:00:00+00:00            0.0       NaN         NaN   \n",
      "\n",
      "   temperature  pressure  humidity  wind_u  wind_v  hour_sin  hour_cos  \\\n",
      "0         30.8       NaN      60.0     NaN     NaN  0.500000  0.866025   \n",
      "1         30.8       NaN      59.0     NaN     NaN  0.555570  0.831470   \n",
      "2         30.6       NaN      60.0     NaN     NaN  0.608761  0.793353   \n",
      "3         30.8       NaN      60.0     NaN     NaN  0.659346  0.751840   \n",
      "4         30.6       NaN      61.0     NaN     NaN  0.707107  0.707107   \n",
      "\n",
      "   month_sin  month_cos  latitude  longitude  year month  \n",
      "0        0.5   0.866025 -22.82694  -43.33694  2016     1  \n",
      "1        0.5   0.866025 -22.82694  -43.33694  2016     1  \n",
      "2        0.5   0.866025 -22.82694  -43.33694  2016     1  \n",
      "3        0.5   0.866025 -22.82694  -43.33694  2016     1  \n",
      "4        0.5   0.866025 -22.82694  -43.33694  2016     1  \n"
     ]
    }
   ],
   "source": [
    "def main():\n",
    "    check_if_data_folder_exists('alertario_weather_station/alertario')\n",
    "\n",
    "    df_alertario = pd.read_parquet('alertario_weather_station/alertario')\n",
    "\n",
    "    print(df_alertario.shape)\n",
    "    print(df_alertario.columns)\n",
    "    print(df_alertario['station'].unique())\n",
    "    print(df_alertario.head())\n",
    "\n",
    "    dataframe_helper = DataFrameHelper()\n",
    "    column_name_mapping = dataframe_helper.get_column_name_mapping(df_alertario)\n",
    "\n",
    "    for station_id in ALERTARIO_WEATHER_STATION_IDS:\n",
    "        df_station = dataframe_helper.filter_dataframe_by_station(df=df_alertario, station=station_id)\n",
    "\n",
    "        df_station = dataframe_helper.get_dataframe_with_selected_columns(\n",
    "            df=df_station,\n",
    "            column_names=column_name_mapping.keys()\n",
    "        )\n",
    "        df_station = dataframe_helper.rename_dataframe_column_names(\n",
    "            df=df_station,\n",
    "            column_name_mapping=column_name_mapping\n",
    "        )\n",
    "\n",
    "        dataframe_helper.save_dataframe_as_parquet(df_station, station_id)\n",
    "\n",
    "if __name__ == '__main__':\n",
    "  main()"
   ]
  }
 ],
 "metadata": {
  "kernelspec": {
   "display_name": "atmoseer",
   "language": "python",
   "name": "python3"
  },
  "language_info": {
   "codemirror_mode": {
    "name": "ipython",
    "version": 3
   },
   "file_extension": ".py",
   "mimetype": "text/x-python",
   "name": "python",
   "nbconvert_exporter": "python",
   "pygments_lexer": "ipython3",
   "version": "3.9.19"
  }
 },
 "nbformat": 4,
 "nbformat_minor": 2
}
